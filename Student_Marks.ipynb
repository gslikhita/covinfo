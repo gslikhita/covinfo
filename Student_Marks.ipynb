{
  "nbformat": 4,
  "nbformat_minor": 0,
  "metadata": {
    "colab": {
      "name": "Student_Marks.ipynb",
      "provenance": [],
      "collapsed_sections": [],
      "authorship_tag": "ABX9TyNFez3av/6HYbPWurGgq5lM",
      "include_colab_link": true
    },
    "kernelspec": {
      "name": "python3",
      "display_name": "Python 3"
    },
    "language_info": {
      "name": "python"
    }
  },
  "cells": [
    {
      "cell_type": "markdown",
      "metadata": {
        "id": "view-in-github",
        "colab_type": "text"
      },
      "source": [
        "<a href=\"https://colab.research.google.com/github/gslikhita/covinfo/blob/main/Student_Marks.ipynb\" target=\"_parent\"><img src=\"https://colab.research.google.com/assets/colab-badge.svg\" alt=\"Open In Colab\"/></a>"
      ]
    },
    {
      "cell_type": "code",
      "execution_count": 22,
      "metadata": {
        "id": "5nGy-6ILtK28"
      },
      "outputs": [],
      "source": [
        "import numpy as np\n",
        "import pandas as pd\n",
        "import matplotlib.pyplot as plt\n",
        "from sklearn.linear_model import LinearRegression"
      ]
    },
    {
      "cell_type": "code",
      "source": [
        "doc= pd.read_csv('Student_Marks.csv')\n",
        "print(doc)\n"
      ],
      "metadata": {
        "colab": {
          "base_uri": "https://localhost:8080/"
        },
        "id": "D_fos33wuENU",
        "outputId": "455b7f8e-08f9-4598-8394-af4484f211aa"
      },
      "execution_count": 5,
      "outputs": [
        {
          "output_type": "stream",
          "name": "stdout",
          "text": [
            "    number_courses  time_study   Marks\n",
            "0                3       4.508  19.202\n",
            "1                4       0.096   7.734\n",
            "2                4       3.133  13.811\n",
            "3                6       7.909  53.018\n",
            "4                8       7.811  55.299\n",
            "..             ...         ...     ...\n",
            "95               6       3.561  19.128\n",
            "96               3       0.301   5.609\n",
            "97               4       7.163  41.444\n",
            "98               7       0.309  12.027\n",
            "99               3       6.335  32.357\n",
            "\n",
            "[100 rows x 3 columns]\n"
          ]
        }
      ]
    },
    {
      "cell_type": "code",
      "source": [
        "model = LinearRegression()"
      ],
      "metadata": {
        "id": "gLGASW7TvGDg"
      },
      "execution_count": 23,
      "outputs": []
    },
    {
      "cell_type": "code",
      "source": [
        "doc.describe()"
      ],
      "metadata": {
        "colab": {
          "base_uri": "https://localhost:8080/",
          "height": 300
        },
        "id": "Srs9fH4av7Ii",
        "outputId": "654cbde4-eb84-455c-a7db-98de839cbd73"
      },
      "execution_count": 10,
      "outputs": [
        {
          "output_type": "execute_result",
          "data": {
            "text/plain": [
              "       number_courses  time_study       Marks\n",
              "count      100.000000  100.000000  100.000000\n",
              "mean         5.290000    4.077140   24.417690\n",
              "std          1.799523    2.372914   14.326199\n",
              "min          3.000000    0.096000    5.609000\n",
              "25%          4.000000    2.058500   12.633000\n",
              "50%          5.000000    4.022000   20.059500\n",
              "75%          7.000000    6.179250   36.676250\n",
              "max          8.000000    7.957000   55.299000"
            ],
            "text/html": [
              "\n",
              "  <div id=\"df-943dc45b-486b-4e32-8782-4d80fa834fa2\">\n",
              "    <div class=\"colab-df-container\">\n",
              "      <div>\n",
              "<style scoped>\n",
              "    .dataframe tbody tr th:only-of-type {\n",
              "        vertical-align: middle;\n",
              "    }\n",
              "\n",
              "    .dataframe tbody tr th {\n",
              "        vertical-align: top;\n",
              "    }\n",
              "\n",
              "    .dataframe thead th {\n",
              "        text-align: right;\n",
              "    }\n",
              "</style>\n",
              "<table border=\"1\" class=\"dataframe\">\n",
              "  <thead>\n",
              "    <tr style=\"text-align: right;\">\n",
              "      <th></th>\n",
              "      <th>number_courses</th>\n",
              "      <th>time_study</th>\n",
              "      <th>Marks</th>\n",
              "    </tr>\n",
              "  </thead>\n",
              "  <tbody>\n",
              "    <tr>\n",
              "      <th>count</th>\n",
              "      <td>100.000000</td>\n",
              "      <td>100.000000</td>\n",
              "      <td>100.000000</td>\n",
              "    </tr>\n",
              "    <tr>\n",
              "      <th>mean</th>\n",
              "      <td>5.290000</td>\n",
              "      <td>4.077140</td>\n",
              "      <td>24.417690</td>\n",
              "    </tr>\n",
              "    <tr>\n",
              "      <th>std</th>\n",
              "      <td>1.799523</td>\n",
              "      <td>2.372914</td>\n",
              "      <td>14.326199</td>\n",
              "    </tr>\n",
              "    <tr>\n",
              "      <th>min</th>\n",
              "      <td>3.000000</td>\n",
              "      <td>0.096000</td>\n",
              "      <td>5.609000</td>\n",
              "    </tr>\n",
              "    <tr>\n",
              "      <th>25%</th>\n",
              "      <td>4.000000</td>\n",
              "      <td>2.058500</td>\n",
              "      <td>12.633000</td>\n",
              "    </tr>\n",
              "    <tr>\n",
              "      <th>50%</th>\n",
              "      <td>5.000000</td>\n",
              "      <td>4.022000</td>\n",
              "      <td>20.059500</td>\n",
              "    </tr>\n",
              "    <tr>\n",
              "      <th>75%</th>\n",
              "      <td>7.000000</td>\n",
              "      <td>6.179250</td>\n",
              "      <td>36.676250</td>\n",
              "    </tr>\n",
              "    <tr>\n",
              "      <th>max</th>\n",
              "      <td>8.000000</td>\n",
              "      <td>7.957000</td>\n",
              "      <td>55.299000</td>\n",
              "    </tr>\n",
              "  </tbody>\n",
              "</table>\n",
              "</div>\n",
              "      <button class=\"colab-df-convert\" onclick=\"convertToInteractive('df-943dc45b-486b-4e32-8782-4d80fa834fa2')\"\n",
              "              title=\"Convert this dataframe to an interactive table.\"\n",
              "              style=\"display:none;\">\n",
              "        \n",
              "  <svg xmlns=\"http://www.w3.org/2000/svg\" height=\"24px\"viewBox=\"0 0 24 24\"\n",
              "       width=\"24px\">\n",
              "    <path d=\"M0 0h24v24H0V0z\" fill=\"none\"/>\n",
              "    <path d=\"M18.56 5.44l.94 2.06.94-2.06 2.06-.94-2.06-.94-.94-2.06-.94 2.06-2.06.94zm-11 1L8.5 8.5l.94-2.06 2.06-.94-2.06-.94L8.5 2.5l-.94 2.06-2.06.94zm10 10l.94 2.06.94-2.06 2.06-.94-2.06-.94-.94-2.06-.94 2.06-2.06.94z\"/><path d=\"M17.41 7.96l-1.37-1.37c-.4-.4-.92-.59-1.43-.59-.52 0-1.04.2-1.43.59L10.3 9.45l-7.72 7.72c-.78.78-.78 2.05 0 2.83L4 21.41c.39.39.9.59 1.41.59.51 0 1.02-.2 1.41-.59l7.78-7.78 2.81-2.81c.8-.78.8-2.07 0-2.86zM5.41 20L4 18.59l7.72-7.72 1.47 1.35L5.41 20z\"/>\n",
              "  </svg>\n",
              "      </button>\n",
              "      \n",
              "  <style>\n",
              "    .colab-df-container {\n",
              "      display:flex;\n",
              "      flex-wrap:wrap;\n",
              "      gap: 12px;\n",
              "    }\n",
              "\n",
              "    .colab-df-convert {\n",
              "      background-color: #E8F0FE;\n",
              "      border: none;\n",
              "      border-radius: 50%;\n",
              "      cursor: pointer;\n",
              "      display: none;\n",
              "      fill: #1967D2;\n",
              "      height: 32px;\n",
              "      padding: 0 0 0 0;\n",
              "      width: 32px;\n",
              "    }\n",
              "\n",
              "    .colab-df-convert:hover {\n",
              "      background-color: #E2EBFA;\n",
              "      box-shadow: 0px 1px 2px rgba(60, 64, 67, 0.3), 0px 1px 3px 1px rgba(60, 64, 67, 0.15);\n",
              "      fill: #174EA6;\n",
              "    }\n",
              "\n",
              "    [theme=dark] .colab-df-convert {\n",
              "      background-color: #3B4455;\n",
              "      fill: #D2E3FC;\n",
              "    }\n",
              "\n",
              "    [theme=dark] .colab-df-convert:hover {\n",
              "      background-color: #434B5C;\n",
              "      box-shadow: 0px 1px 3px 1px rgba(0, 0, 0, 0.15);\n",
              "      filter: drop-shadow(0px 1px 2px rgba(0, 0, 0, 0.3));\n",
              "      fill: #FFFFFF;\n",
              "    }\n",
              "  </style>\n",
              "\n",
              "      <script>\n",
              "        const buttonEl =\n",
              "          document.querySelector('#df-943dc45b-486b-4e32-8782-4d80fa834fa2 button.colab-df-convert');\n",
              "        buttonEl.style.display =\n",
              "          google.colab.kernel.accessAllowed ? 'block' : 'none';\n",
              "\n",
              "        async function convertToInteractive(key) {\n",
              "          const element = document.querySelector('#df-943dc45b-486b-4e32-8782-4d80fa834fa2');\n",
              "          const dataTable =\n",
              "            await google.colab.kernel.invokeFunction('convertToInteractive',\n",
              "                                                     [key], {});\n",
              "          if (!dataTable) return;\n",
              "\n",
              "          const docLinkHtml = 'Like what you see? Visit the ' +\n",
              "            '<a target=\"_blank\" href=https://colab.research.google.com/notebooks/data_table.ipynb>data table notebook</a>'\n",
              "            + ' to learn more about interactive tables.';\n",
              "          element.innerHTML = '';\n",
              "          dataTable['output_type'] = 'display_data';\n",
              "          await google.colab.output.renderOutput(dataTable, element);\n",
              "          const docLink = document.createElement('div');\n",
              "          docLink.innerHTML = docLinkHtml;\n",
              "          element.appendChild(docLink);\n",
              "        }\n",
              "      </script>\n",
              "    </div>\n",
              "  </div>\n",
              "  "
            ]
          },
          "metadata": {},
          "execution_count": 10
        }
      ]
    },
    {
      "cell_type": "code",
      "source": [
        "plt.scatter(x=doc.time_study, y = doc.Marks)"
      ],
      "metadata": {
        "colab": {
          "base_uri": "https://localhost:8080/",
          "height": 282
        },
        "id": "H5Lc7G3Aw-eC",
        "outputId": "2fbe992c-81df-4f0a-a3f0-2383c7fec5d9"
      },
      "execution_count": 12,
      "outputs": [
        {
          "output_type": "execute_result",
          "data": {
            "text/plain": [
              "<matplotlib.collections.PathCollection at 0x7f6604c18f10>"
            ]
          },
          "metadata": {},
          "execution_count": 12
        },
        {
          "output_type": "display_data",
          "data": {
            "text/plain": [
              "<Figure size 432x288 with 1 Axes>"
            ],
            "image/png": "[encoded data removed]"
          },
          "metadata": {
            "needs_background": "light"
          }
        }
      ]
    },
    {
      "cell_type": "code",
      "source": [
        "plt.scatter(x=doc.number_courses, y = doc.Marks)"
      ],
      "metadata": {
        "colab": {
          "base_uri": "https://localhost:8080/",
          "height": 282
        },
        "id": "yfBGB6l5xhHc",
        "outputId": "d9fba8c0-afcc-49fe-9f91-211f7f2e9f3f"
      },
      "execution_count": 14,
      "outputs": [
        {
          "output_type": "execute_result",
          "data": {
            "text/plain": [
              "<matplotlib.collections.PathCollection at 0x7f6604338690>"
            ]
          },
          "metadata": {},
          "execution_count": 14
        },
        {
          "output_type": "display_data",
          "data": {
            "text/plain": [
              "<Figure size 432x288 with 1 Axes>"
            ],
            "image/png": "[encoded data removed]"
          },
          "metadata": {
            "needs_background": "light"
          }
        }
      ]
    },
    {
      "cell_type": "code",
      "source": [
        "X = doc.drop(\"Marks\", axis = \"columns\")\n",
        "X = X.drop(\"number_courses\", axis = \"columns\")\n",
        "y = doc.drop(\"time_study\", axis = \"columns\")\n",
        "y = y.drop(\"number_courses\", axis = \"columns\")\n",
        "print(X.shape)\n",
        "print(y.shape)"
      ],
      "metadata": {
        "colab": {
          "base_uri": "https://localhost:8080/"
        },
        "id": "6FTxjLGUxwxL",
        "outputId": "3d8c9351-aafa-4dcd-c94f-0d84cfbb7a93"
      },
      "execution_count": 17,
      "outputs": [
        {
          "output_type": "stream",
          "name": "stdout",
          "text": [
            "(100, 1)\n",
            "(100, 1)\n"
          ]
        }
      ]
    },
    {
      "cell_type": "code",
      "source": [
        "from sklearn.model_selection import train_test_split\n",
        "X_train, X_test, y_train, y_test = train_test_split(X,y, test_size=0.25 )\n",
        "print(X_train.shape)\n",
        "print(X_test.shape)\n",
        "print(y_train.shape)\n",
        "print(y_test.shape)"
      ],
      "metadata": {
        "colab": {
          "base_uri": "https://localhost:8080/"
        },
        "id": "0fNJLkuMyu8a",
        "outputId": "eb290220-819c-49da-cdd7-153bac4223d0"
      },
      "execution_count": 19,
      "outputs": [
        {
          "output_type": "stream",
          "name": "stdout",
          "text": [
            "(75, 1)\n",
            "(25, 1)\n",
            "(75, 1)\n",
            "(25, 1)\n"
          ]
        }
      ]
    },
    {
      "cell_type": "code",
      "source": [
        "model.fit(X_train, y_train)"
      ],
      "metadata": {
        "colab": {
          "base_uri": "https://localhost:8080/"
        },
        "id": "0MwzUrbmzx5Z",
        "outputId": "ec0bb1a3-740a-494f-a061-190c6fa74154"
      },
      "execution_count": 24,
      "outputs": [
        {
          "output_type": "execute_result",
          "data": {
            "text/plain": [
              "LinearRegression()"
            ]
          },
          "metadata": {},
          "execution_count": 24
        }
      ]
    },
    {
      "cell_type": "code",
      "source": [
        "model.coef_\n"
      ],
      "metadata": {
        "colab": {
          "base_uri": "https://localhost:8080/"
        },
        "id": "M_r6B7JY0cr4",
        "outputId": "3f81df3b-d77b-4945-be15-a963aa5cfe73"
      },
      "execution_count": 26,
      "outputs": [
        {
          "output_type": "execute_result",
          "data": {
            "text/plain": [
              "array([[5.60627823]])"
            ]
          },
          "metadata": {},
          "execution_count": 26
        }
      ]
    },
    {
      "cell_type": "code",
      "source": [
        "model.intercept_"
      ],
      "metadata": {
        "colab": {
          "base_uri": "https://localhost:8080/"
        },
        "id": "6nDugmAe0oxX",
        "outputId": "ec4b1425-616d-4692-8ca9-66213846c2ea"
      },
      "execution_count": 27,
      "outputs": [
        {
          "output_type": "execute_result",
          "data": {
            "text/plain": [
              "array([1.44943549])"
            ]
          },
          "metadata": {},
          "execution_count": 27
        }
      ]
    },
    {
      "cell_type": "code",
      "source": [
        "y_pred = model.predict(X_test)\n",
        "y_pred"
      ],
      "metadata": {
        "colab": {
          "base_uri": "https://localhost:8080/"
        },
        "id": "QzpKvyqf04Bb",
        "outputId": "1ada8293-cf8b-4abf-b9a3-6237f8b13e94"
      },
      "execution_count": 53,
      "outputs": [
        {
          "output_type": "execute_result",
          "data": {
            "text/plain": [
              "array([[21.82825686],\n",
              "       [17.78052397],\n",
              "       [23.42043987],\n",
              "       [12.94791214],\n",
              "       [ 3.18177546],\n",
              "       [14.13083685],\n",
              "       [44.33185767],\n",
              "       [10.17841069],\n",
              "       [45.03824873],\n",
              "       [25.33218075],\n",
              "       [15.56604407],\n",
              "       [33.04081332],\n",
              "       [10.58206273],\n",
              "       [44.28700745],\n",
              "       [21.58158061],\n",
              "       [36.2139668 ],\n",
              "       [ 3.82089118],\n",
              "       [35.4403004 ],\n",
              "       [37.19506549],\n",
              "       [37.72766192],\n",
              "       [15.11754182],\n",
              "       [18.07765672],\n",
              "       [27.98395035],\n",
              "       [35.0030107 ],\n",
              "       [21.66567479]])"
            ]
          },
          "metadata": {},
          "execution_count": 53
        }
      ]
    },
    {
      "cell_type": "code",
      "source": [
        "pd.DataFrame(np.c_[X_test, y_test, y_pred], columns = [\"study_time\", \"student_marks_original\", \"student_marks_prediction\"])"
      ],
      "metadata": {
        "colab": {
          "base_uri": "https://localhost:8080/",
          "height": 833
        },
        "id": "Cxc327L21HHh",
        "outputId": "fdd89b2c-8169-4cd0-d4a1-5ba7c1d09015"
      },
      "execution_count": 29,
      "outputs": [
        {
          "output_type": "execute_result",
          "data": {
            "text/plain": [
              "    study_time  student_marks_original  student_marks_prediction\n",
              "0        3.635                  16.517                 21.828257\n",
              "1        2.913                  18.238                 17.780524\n",
              "2        3.919                  24.451                 23.420440\n",
              "3        2.051                  12.209                 12.947912\n",
              "4        0.309                  12.027                  3.181775\n",
              "5        2.262                  17.705                 14.130837\n",
              "6        7.649                  51.583                 44.331858\n",
              "7        1.557                  10.429                 10.178411\n",
              "8        7.775                  51.142                 45.038249\n",
              "9        4.260                  19.466                 25.332181\n",
              "10       2.518                  13.416                 15.566044\n",
              "11       5.635                  26.882                 33.040813\n",
              "12       1.629                   7.014                 10.582063\n",
              "13       7.641                  53.359                 44.287007\n",
              "14       3.591                  19.771                 21.581581\n",
              "15       6.201                  39.957                 36.213967\n",
              "16       0.423                  12.132                  3.820891\n",
              "17       6.063                  29.889                 35.440300\n",
              "18       6.376                  40.024                 37.195065\n",
              "19       6.471                  42.426                 37.727662\n",
              "20       2.438                  10.844                 15.117542\n",
              "21       2.966                  13.119                 18.077657\n",
              "22       4.733                  22.073                 27.983950\n",
              "23       5.985                  38.278                 35.003011\n",
              "24       3.606                  19.590                 21.665675"
            ],
            "text/html": [
              "\n",
              "  <div id=\"df-e7b53020-e416-42a1-81ac-783d47365fb7\">\n",
              "    <div class=\"colab-df-container\">\n",
              "      <div>\n",
              "<style scoped>\n",
              "    .dataframe tbody tr th:only-of-type {\n",
              "        vertical-align: middle;\n",
              "    }\n",
              "\n",
              "    .dataframe tbody tr th {\n",
              "        vertical-align: top;\n",
              "    }\n",
              "\n",
              "    .dataframe thead th {\n",
              "        text-align: right;\n",
              "    }\n",
              "</style>\n",
              "<table border=\"1\" class=\"dataframe\">\n",
              "  <thead>\n",
              "    <tr style=\"text-align: right;\">\n",
              "      <th></th>\n",
              "      <th>study_time</th>\n",
              "      <th>student_marks_original</th>\n",
              "      <th>student_marks_prediction</th>\n",
              "    </tr>\n",
              "  </thead>\n",
              "  <tbody>\n",
              "    <tr>\n",
              "      <th>0</th>\n",
              "      <td>3.635</td>\n",
              "      <td>16.517</td>\n",
              "      <td>21.828257</td>\n",
              "    </tr>\n",
              "    <tr>\n",
              "      <th>1</th>\n",
              "      <td>2.913</td>\n",
              "      <td>18.238</td>\n",
              "      <td>17.780524</td>\n",
              "    </tr>\n",
              "    <tr>\n",
              "      <th>2</th>\n",
              "      <td>3.919</td>\n",
              "      <td>24.451</td>\n",
              "      <td>23.420440</td>\n",
              "    </tr>\n",
              "    <tr>\n",
              "      <th>3</th>\n",
              "      <td>2.051</td>\n",
              "      <td>12.209</td>\n",
              "      <td>12.947912</td>\n",
              "    </tr>\n",
              "    <tr>\n",
              "      <th>4</th>\n",
              "      <td>0.309</td>\n",
              "      <td>12.027</td>\n",
              "      <td>3.181775</td>\n",
              "    </tr>\n",
              "    <tr>\n",
              "      <th>5</th>\n",
              "      <td>2.262</td>\n",
              "      <td>17.705</td>\n",
              "      <td>14.130837</td>\n",
              "    </tr>\n",
              "    <tr>\n",
              "      <th>6</th>\n",
              "      <td>7.649</td>\n",
              "      <td>51.583</td>\n",
              "      <td>44.331858</td>\n",
              "    </tr>\n",
              "    <tr>\n",
              "      <th>7</th>\n",
              "      <td>1.557</td>\n",
              "      <td>10.429</td>\n",
              "      <td>10.178411</td>\n",
              "    </tr>\n",
              "    <tr>\n",
              "      <th>8</th>\n",
              "      <td>7.775</td>\n",
              "      <td>51.142</td>\n",
              "      <td>45.038249</td>\n",
              "    </tr>\n",
              "    <tr>\n",
              "      <th>9</th>\n",
              "      <td>4.260</td>\n",
              "      <td>19.466</td>\n",
              "      <td>25.332181</td>\n",
              "    </tr>\n",
              "    <tr>\n",
              "      <th>10</th>\n",
              "      <td>2.518</td>\n",
              "      <td>13.416</td>\n",
              "      <td>15.566044</td>\n",
              "    </tr>\n",
              "    <tr>\n",
              "      <th>11</th>\n",
              "      <td>5.635</td>\n",
              "      <td>26.882</td>\n",
              "      <td>33.040813</td>\n",
              "    </tr>\n",
              "    <tr>\n",
              "      <th>12</th>\n",
              "      <td>1.629</td>\n",
              "      <td>7.014</td>\n",
              "      <td>10.582063</td>\n",
              "    </tr>\n",
              "    <tr>\n",
              "      <th>13</th>\n",
              "      <td>7.641</td>\n",
              "      <td>53.359</td>\n",
              "      <td>44.287007</td>\n",
              "    </tr>\n",
              "    <tr>\n",
              "      <th>14</th>\n",
              "      <td>3.591</td>\n",
              "      <td>19.771</td>\n",
              "      <td>21.581581</td>\n",
              "    </tr>\n",
              "    <tr>\n",
              "      <th>15</th>\n",
              "      <td>6.201</td>\n",
              "      <td>39.957</td>\n",
              "      <td>36.213967</td>\n",
              "    </tr>\n",
              "    <tr>\n",
              "      <th>16</th>\n",
              "      <td>0.423</td>\n",
              "      <td>12.132</td>\n",
              "      <td>3.820891</td>\n",
              "    </tr>\n",
              "    <tr>\n",
              "      <th>17</th>\n",
              "      <td>6.063</td>\n",
              "      <td>29.889</td>\n",
              "      <td>35.440300</td>\n",
              "    </tr>\n",
              "    <tr>\n",
              "      <th>18</th>\n",
              "      <td>6.376</td>\n",
              "      <td>40.024</td>\n",
              "      <td>37.195065</td>\n",
              "    </tr>\n",
              "    <tr>\n",
              "      <th>19</th>\n",
              "      <td>6.471</td>\n",
              "      <td>42.426</td>\n",
              "      <td>37.727662</td>\n",
              "    </tr>\n",
              "    <tr>\n",
              "      <th>20</th>\n",
              "      <td>2.438</td>\n",
              "      <td>10.844</td>\n",
              "      <td>15.117542</td>\n",
              "    </tr>\n",
              "    <tr>\n",
              "      <th>21</th>\n",
              "      <td>2.966</td>\n",
              "      <td>13.119</td>\n",
              "      <td>18.077657</td>\n",
              "    </tr>\n",
              "    <tr>\n",
              "      <th>22</th>\n",
              "      <td>4.733</td>\n",
              "      <td>22.073</td>\n",
              "      <td>27.983950</td>\n",
              "    </tr>\n",
              "    <tr>\n",
              "      <th>23</th>\n",
              "      <td>5.985</td>\n",
              "      <td>38.278</td>\n",
              "      <td>35.003011</td>\n",
              "    </tr>\n",
              "    <tr>\n",
              "      <th>24</th>\n",
              "      <td>3.606</td>\n",
              "      <td>19.590</td>\n",
              "      <td>21.665675</td>\n",
              "    </tr>\n",
              "  </tbody>\n",
              "</table>\n",
              "</div>\n",
              "      <button class=\"colab-df-convert\" onclick=\"convertToInteractive('df-e7b53020-e416-42a1-81ac-783d47365fb7')\"\n",
              "              title=\"Convert this dataframe to an interactive table.\"\n",
              "              style=\"display:none;\">\n",
              "        \n",
              "  <svg xmlns=\"http://www.w3.org/2000/svg\" height=\"24px\"viewBox=\"0 0 24 24\"\n",
              "       width=\"24px\">\n",
              "    <path d=\"M0 0h24v24H0V0z\" fill=\"none\"/>\n",
              "    <path d=\"M18.56 5.44l.94 2.06.94-2.06 2.06-.94-2.06-.94-.94-2.06-.94 2.06-2.06.94zm-11 1L8.5 8.5l.94-2.06 2.06-.94-2.06-.94L8.5 2.5l-.94 2.06-2.06.94zm10 10l.94 2.06.94-2.06 2.06-.94-2.06-.94-.94-2.06-.94 2.06-2.06.94z\"/><path d=\"M17.41 7.96l-1.37-1.37c-.4-.4-.92-.59-1.43-.59-.52 0-1.04.2-1.43.59L10.3 9.45l-7.72 7.72c-.78.78-.78 2.05 0 2.83L4 21.41c.39.39.9.59 1.41.59.51 0 1.02-.2 1.41-.59l7.78-7.78 2.81-2.81c.8-.78.8-2.07 0-2.86zM5.41 20L4 18.59l7.72-7.72 1.47 1.35L5.41 20z\"/>\n",
              "  </svg>\n",
              "      </button>\n",
              "      \n",
              "  <style>\n",
              "    .colab-df-container {\n",
              "      display:flex;\n",
              "      flex-wrap:wrap;\n",
              "      gap: 12px;\n",
              "    }\n",
              "\n",
              "    .colab-df-convert {\n",
              "      background-color: #E8F0FE;\n",
              "      border: none;\n",
              "      border-radius: 50%;\n",
              "      cursor: pointer;\n",
              "      display: none;\n",
              "      fill: #1967D2;\n",
              "      height: 32px;\n",
              "      padding: 0 0 0 0;\n",
              "      width: 32px;\n",
              "    }\n",
              "\n",
              "    .colab-df-convert:hover {\n",
              "      background-color: #E2EBFA;\n",
              "      box-shadow: 0px 1px 2px rgba(60, 64, 67, 0.3), 0px 1px 3px 1px rgba(60, 64, 67, 0.15);\n",
              "      fill: #174EA6;\n",
              "    }\n",
              "\n",
              "    [theme=dark] .colab-df-convert {\n",
              "      background-color: #3B4455;\n",
              "      fill: #D2E3FC;\n",
              "    }\n",
              "\n",
              "    [theme=dark] .colab-df-convert:hover {\n",
              "      background-color: #434B5C;\n",
              "      box-shadow: 0px 1px 3px 1px rgba(0, 0, 0, 0.15);\n",
              "      filter: drop-shadow(0px 1px 2px rgba(0, 0, 0, 0.3));\n",
              "      fill: #FFFFFF;\n",
              "    }\n",
              "  </style>\n",
              "\n",
              "      <script>\n",
              "        const buttonEl =\n",
              "          document.querySelector('#df-e7b53020-e416-42a1-81ac-783d47365fb7 button.colab-df-convert');\n",
              "        buttonEl.style.display =\n",
              "          google.colab.kernel.accessAllowed ? 'block' : 'none';\n",
              "\n",
              "        async function convertToInteractive(key) {\n",
              "          const element = document.querySelector('#df-e7b53020-e416-42a1-81ac-783d47365fb7');\n",
              "          const dataTable =\n",
              "            await google.colab.kernel.invokeFunction('convertToInteractive',\n",
              "                                                     [key], {});\n",
              "          if (!dataTable) return;\n",
              "\n",
              "          const docLinkHtml = 'Like what you see? Visit the ' +\n",
              "            '<a target=\"_blank\" href=https://colab.research.google.com/notebooks/data_table.ipynb>data table notebook</a>'\n",
              "            + ' to learn more about interactive tables.';\n",
              "          element.innerHTML = '';\n",
              "          dataTable['output_type'] = 'display_data';\n",
              "          await google.colab.output.renderOutput(dataTable, element);\n",
              "          const docLink = document.createElement('div');\n",
              "          docLink.innerHTML = docLinkHtml;\n",
              "          element.appendChild(docLink);\n",
              "        }\n",
              "      </script>\n",
              "    </div>\n",
              "  </div>\n",
              "  "
            ]
          },
          "metadata": {},
          "execution_count": 29
        }
      ]
    },
    {
      "cell_type": "code",
      "source": [
        "model.score(X_test,y_test)"
      ],
      "metadata": {
        "colab": {
          "base_uri": "https://localhost:8080/"
        },
        "id": "vvxcU7n11UDW",
        "outputId": "f3c42568-26d2-4a72-8cb3-cd1db39f46f5"
      },
      "execution_count": 30,
      "outputs": [
        {
          "output_type": "execute_result",
          "data": {
            "text/plain": [
              "0.8735491619664206"
            ]
          },
          "metadata": {},
          "execution_count": 30
        }
      ]
    },
    {
      "cell_type": "code",
      "source": [
        "from sklearn import metrics\n",
        "print(\"Mean Absolute Error :\",metrics.mean_absolute_error(y_test,y_pred))\n",
        "print(\"Mean Squared Error :\",metrics.mean_squared_error(y_test,y_pred))\n",
        "print(\"Root Mean Squared Error :\",np.sqrt(metrics.mean_squared_error(y_test,y_pred)))"
      ],
      "metadata": {
        "colab": {
          "base_uri": "https://localhost:8080/"
        },
        "id": "xGAS7so33cpv",
        "outputId": "6e7c6345-e90d-4f38-a7b8-67b034990676"
      },
      "execution_count": 31,
      "outputs": [
        {
          "output_type": "stream",
          "name": "stdout",
          "text": [
            "Mean Absolute Error : 4.312611111108224\n",
            "Mean Squared Error : 24.920675758099282\n",
            "Root Mean Squared Error : 4.992061273472039\n"
          ]
        }
      ]
    },
    {
      "cell_type": "markdown",
      "source": [
        "# **Multiple Regression**"
      ],
      "metadata": {
        "id": "GyctJSpJ4Hv2"
      }
    },
    {
      "cell_type": "code",
      "source": [
        "X2 = doc[[ 'number_courses','time_study']]\n",
        "y2 = doc.drop(\"time_study\", axis = \"columns\")\n",
        "y2 = y2.drop(\"number_courses\", axis = \"columns\")"
      ],
      "metadata": {
        "id": "-ePMZBMb4e-X"
      },
      "execution_count": 40,
      "outputs": []
    },
    {
      "cell_type": "code",
      "source": [
        "print(X2)"
      ],
      "metadata": {
        "colab": {
          "base_uri": "https://localhost:8080/"
        },
        "id": "UOgMUXi86Rpj",
        "outputId": "0c460128-a7f2-4587-b67a-4896ac44bcfb"
      },
      "execution_count": 41,
      "outputs": [
        {
          "output_type": "stream",
          "name": "stdout",
          "text": [
            "    number_courses  time_study\n",
            "0                3       4.508\n",
            "1                4       0.096\n",
            "2                4       3.133\n",
            "3                6       7.909\n",
            "4                8       7.811\n",
            "..             ...         ...\n",
            "95               6       3.561\n",
            "96               3       0.301\n",
            "97               4       7.163\n",
            "98               7       0.309\n",
            "99               3       6.335\n",
            "\n",
            "[100 rows x 2 columns]\n"
          ]
        }
      ]
    },
    {
      "cell_type": "code",
      "source": [
        "print(y2)"
      ],
      "metadata": {
        "colab": {
          "base_uri": "https://localhost:8080/"
        },
        "id": "OWB1gDls7mNj",
        "outputId": "ce6cb7cc-1f10-4c9a-ef22-70623743dcdc"
      },
      "execution_count": 42,
      "outputs": [
        {
          "output_type": "stream",
          "name": "stdout",
          "text": [
            "     Marks\n",
            "0   19.202\n",
            "1    7.734\n",
            "2   13.811\n",
            "3   53.018\n",
            "4   55.299\n",
            "..     ...\n",
            "95  19.128\n",
            "96   5.609\n",
            "97  41.444\n",
            "98  12.027\n",
            "99  32.357\n",
            "\n",
            "[100 rows x 1 columns]\n"
          ]
        }
      ]
    },
    {
      "cell_type": "code",
      "source": [
        "print(X2.shape)\n",
        "print(y2.shape)"
      ],
      "metadata": {
        "colab": {
          "base_uri": "https://localhost:8080/"
        },
        "id": "5ww0DY0o6XZj",
        "outputId": "63147603-fd35-4768-ddc8-15755124b3cc"
      },
      "execution_count": 43,
      "outputs": [
        {
          "output_type": "stream",
          "name": "stdout",
          "text": [
            "(100, 2)\n",
            "(100, 1)\n"
          ]
        }
      ]
    },
    {
      "cell_type": "code",
      "source": [
        "model2 = LinearRegression()"
      ],
      "metadata": {
        "id": "9EOixKQ46jVe"
      },
      "execution_count": 44,
      "outputs": []
    },
    {
      "cell_type": "code",
      "source": [
        "X2_train, X2_test, y2_train, y2_test = train_test_split(X2, y2, test_size=0.25)\n",
        "print(X2_train.shape)\n",
        "print(X2_test.shape)\n",
        "print(y2_train.shape)\n",
        "print(y2_test.shape)"
      ],
      "metadata": {
        "colab": {
          "base_uri": "https://localhost:8080/"
        },
        "id": "K5usp6sT6sFV",
        "outputId": "b937de8d-41c8-4f77-83a9-5de937fc7e71"
      },
      "execution_count": 45,
      "outputs": [
        {
          "output_type": "stream",
          "name": "stdout",
          "text": [
            "(75, 2)\n",
            "(25, 2)\n",
            "(75, 1)\n",
            "(25, 1)\n"
          ]
        }
      ]
    },
    {
      "cell_type": "code",
      "source": [
        "model2.fit(X2, y2)"
      ],
      "metadata": {
        "colab": {
          "base_uri": "https://localhost:8080/"
        },
        "id": "_IldOuoZ8HT_",
        "outputId": "b99a81bd-099f-46cb-b1fc-5b4d7b0831a5"
      },
      "execution_count": 46,
      "outputs": [
        {
          "output_type": "execute_result",
          "data": {
            "text/plain": [
              "LinearRegression()"
            ]
          },
          "metadata": {},
          "execution_count": 46
        }
      ]
    },
    {
      "cell_type": "code",
      "source": [
        "y2_pred = model2.predict(X2_test)\n",
        "y2_pred"
      ],
      "metadata": {
        "colab": {
          "base_uri": "https://localhost:8080/"
        },
        "id": "2DgBIksj8O8j",
        "outputId": "976b86f7-f9b6-4eff-b08c-c8612fef2aac"
      },
      "execution_count": 60,
      "outputs": [
        {
          "output_type": "execute_result",
          "data": {
            "text/plain": [
              "array([[38.86181159],\n",
              "       [31.91300556],\n",
              "       [25.04391608],\n",
              "       [45.36102586],\n",
              "       [ 2.48214492],\n",
              "       [28.17137466],\n",
              "       [13.16305462],\n",
              "       [10.27042886],\n",
              "       [ 7.53171115],\n",
              "       [ 3.71315768],\n",
              "       [39.77014475],\n",
              "       [18.15723207],\n",
              "       [15.45903967],\n",
              "       [28.31848655],\n",
              "       [15.29299919],\n",
              "       [ 6.93106824],\n",
              "       [32.74181097],\n",
              "       [ 9.26351348],\n",
              "       [21.21189613],\n",
              "       [40.00777155],\n",
              "       [23.11640925],\n",
              "       [ 2.47134656],\n",
              "       [45.82129011],\n",
              "       [48.55327458],\n",
              "       [28.56017846]])"
            ]
          },
          "metadata": {},
          "execution_count": 60
        }
      ]
    },
    {
      "cell_type": "code",
      "source": [
        "model2.coef_"
      ],
      "metadata": {
        "colab": {
          "base_uri": "https://localhost:8080/"
        },
        "id": "Fu4eJQHG9VfG",
        "outputId": "c3a9cf52-1520-466e-adc1-4d523f4c45ad"
      },
      "execution_count": 55,
      "outputs": [
        {
          "output_type": "execute_result",
          "data": {
            "text/plain": [
              "array([[1.86405074, 5.39917879]])"
            ]
          },
          "metadata": {},
          "execution_count": 55
        }
      ]
    },
    {
      "cell_type": "code",
      "source": [
        "model.intercept_"
      ],
      "metadata": {
        "colab": {
          "base_uri": "https://localhost:8080/"
        },
        "id": "6MxRIJoI9axf",
        "outputId": "56dddd8d-65db-493a-cb8a-36b53e7886e2"
      },
      "execution_count": 56,
      "outputs": [
        {
          "output_type": "execute_result",
          "data": {
            "text/plain": [
              "array([1.44943549])"
            ]
          },
          "metadata": {},
          "execution_count": 56
        }
      ]
    },
    {
      "cell_type": "code",
      "source": [
        "print('X2_test', 'y2_test', 'y2_pred' )"
      ],
      "metadata": {
        "colab": {
          "base_uri": "https://localhost:8080/"
        },
        "id": "ePH-bIBT8y9u",
        "outputId": "9e154966-8477-4c5c-ccdc-470fb43d11cc"
      },
      "execution_count": 61,
      "outputs": [
        {
          "output_type": "stream",
          "name": "stdout",
          "text": [
            "X2_test y2_test y2_pred\n"
          ]
        }
      ]
    },
    {
      "cell_type": "code",
      "source": [
        "pd.DataFrame(np.c_[X2_test, y2_test, y2_pred], columns = [\"no. of courses\", \"study_time\", \"student_marks_original\", \"student_marks_prediction2\"])"
      ],
      "metadata": {
        "colab": {
          "base_uri": "https://localhost:8080/",
          "height": 833
        },
        "outputId": "a2cdd891-e1dd-496c-e2a5-ede85611dac8",
        "id": "HVOTdFk0-L6g"
      },
      "execution_count": 63,
      "outputs": [
        {
          "output_type": "execute_result",
          "data": {
            "text/plain": [
              "    no. of courses  study_time  student_marks_original  \\\n",
              "0              3.0       7.543                  43.978   \n",
              "1              7.0       4.875                  28.043   \n",
              "2              6.0       3.948                  21.400   \n",
              "3              6.0       7.711                  50.986   \n",
              "4              3.0       0.805                   6.349   \n",
              "5              7.0       4.182                  24.394   \n",
              "6              4.0       2.438                  10.844   \n",
              "7              5.0       1.557                  10.429   \n",
              "8              4.0       1.395                   8.920   \n",
              "9              3.0       1.033                   6.053   \n",
              "10             8.0       5.985                  38.278   \n",
              "11             8.0       1.982                  16.461   \n",
              "12             5.0       2.518                  13.416   \n",
              "13             8.0       3.864                  24.172   \n",
              "14             6.0       2.142                  13.562   \n",
              "15             3.0       1.629                   7.014   \n",
              "16             5.0       5.719                  30.548   \n",
              "17             3.0       2.061                   8.924   \n",
              "18             3.0       4.274                  17.672   \n",
              "19             4.0       7.410                  44.099   \n",
              "20             6.0       3.591                  19.771   \n",
              "21             3.0       0.803                   6.217   \n",
              "22             7.0       7.451                  49.544   \n",
              "23             7.0       7.957                  54.321   \n",
              "24             3.0       5.635                  26.882   \n",
              "\n",
              "    student_marks_prediction2  \n",
              "0                   38.861812  \n",
              "1                   31.913006  \n",
              "2                   25.043916  \n",
              "3                   45.361026  \n",
              "4                    2.482145  \n",
              "5                   28.171375  \n",
              "6                   13.163055  \n",
              "7                   10.270429  \n",
              "8                    7.531711  \n",
              "9                    3.713158  \n",
              "10                  39.770145  \n",
              "11                  18.157232  \n",
              "12                  15.459040  \n",
              "13                  28.318487  \n",
              "14                  15.292999  \n",
              "15                   6.931068  \n",
              "16                  32.741811  \n",
              "17                   9.263513  \n",
              "18                  21.211896  \n",
              "19                  40.007772  \n",
              "20                  23.116409  \n",
              "21                   2.471347  \n",
              "22                  45.821290  \n",
              "23                  48.553275  \n",
              "24                  28.560178  "
            ],
            "text/html": [
              "\n",
              "  <div id=\"df-ecfe0b79-0cdf-4ef4-89fa-533e47abcf07\">\n",
              "    <div class=\"colab-df-container\">\n",
              "      <div>\n",
              "<style scoped>\n",
              "    .dataframe tbody tr th:only-of-type {\n",
              "        vertical-align: middle;\n",
              "    }\n",
              "\n",
              "    .dataframe tbody tr th {\n",
              "        vertical-align: top;\n",
              "    }\n",
              "\n",
              "    .dataframe thead th {\n",
              "        text-align: right;\n",
              "    }\n",
              "</style>\n",
              "<table border=\"1\" class=\"dataframe\">\n",
              "  <thead>\n",
              "    <tr style=\"text-align: right;\">\n",
              "      <th></th>\n",
              "      <th>no. of courses</th>\n",
              "      <th>study_time</th>\n",
              "      <th>student_marks_original</th>\n",
              "      <th>student_marks_prediction2</th>\n",
              "    </tr>\n",
              "  </thead>\n",
              "  <tbody>\n",
              "    <tr>\n",
              "      <th>0</th>\n",
              "      <td>3.0</td>\n",
              "      <td>7.543</td>\n",
              "      <td>43.978</td>\n",
              "      <td>38.861812</td>\n",
              "    </tr>\n",
              "    <tr>\n",
              "      <th>1</th>\n",
              "      <td>7.0</td>\n",
              "      <td>4.875</td>\n",
              "      <td>28.043</td>\n",
              "      <td>31.913006</td>\n",
              "    </tr>\n",
              "    <tr>\n",
              "      <th>2</th>\n",
              "      <td>6.0</td>\n",
              "      <td>3.948</td>\n",
              "      <td>21.400</td>\n",
              "      <td>25.043916</td>\n",
              "    </tr>\n",
              "    <tr>\n",
              "      <th>3</th>\n",
              "      <td>6.0</td>\n",
              "      <td>7.711</td>\n",
              "      <td>50.986</td>\n",
              "      <td>45.361026</td>\n",
              "    </tr>\n",
              "    <tr>\n",
              "      <th>4</th>\n",
              "      <td>3.0</td>\n",
              "      <td>0.805</td>\n",
              "      <td>6.349</td>\n",
              "      <td>2.482145</td>\n",
              "    </tr>\n",
              "    <tr>\n",
              "      <th>5</th>\n",
              "      <td>7.0</td>\n",
              "      <td>4.182</td>\n",
              "      <td>24.394</td>\n",
              "      <td>28.171375</td>\n",
              "    </tr>\n",
              "    <tr>\n",
              "      <th>6</th>\n",
              "      <td>4.0</td>\n",
              "      <td>2.438</td>\n",
              "      <td>10.844</td>\n",
              "      <td>13.163055</td>\n",
              "    </tr>\n",
              "    <tr>\n",
              "      <th>7</th>\n",
              "      <td>5.0</td>\n",
              "      <td>1.557</td>\n",
              "      <td>10.429</td>\n",
              "      <td>10.270429</td>\n",
              "    </tr>\n",
              "    <tr>\n",
              "      <th>8</th>\n",
              "      <td>4.0</td>\n",
              "      <td>1.395</td>\n",
              "      <td>8.920</td>\n",
              "      <td>7.531711</td>\n",
              "    </tr>\n",
              "    <tr>\n",
              "      <th>9</th>\n",
              "      <td>3.0</td>\n",
              "      <td>1.033</td>\n",
              "      <td>6.053</td>\n",
              "      <td>3.713158</td>\n",
              "    </tr>\n",
              "    <tr>\n",
              "      <th>10</th>\n",
              "      <td>8.0</td>\n",
              "      <td>5.985</td>\n",
              "      <td>38.278</td>\n",
              "      <td>39.770145</td>\n",
              "    </tr>\n",
              "    <tr>\n",
              "      <th>11</th>\n",
              "      <td>8.0</td>\n",
              "      <td>1.982</td>\n",
              "      <td>16.461</td>\n",
              "      <td>18.157232</td>\n",
              "    </tr>\n",
              "    <tr>\n",
              "      <th>12</th>\n",
              "      <td>5.0</td>\n",
              "      <td>2.518</td>\n",
              "      <td>13.416</td>\n",
              "      <td>15.459040</td>\n",
              "    </tr>\n",
              "    <tr>\n",
              "      <th>13</th>\n",
              "      <td>8.0</td>\n",
              "      <td>3.864</td>\n",
              "      <td>24.172</td>\n",
              "      <td>28.318487</td>\n",
              "    </tr>\n",
              "    <tr>\n",
              "      <th>14</th>\n",
              "      <td>6.0</td>\n",
              "      <td>2.142</td>\n",
              "      <td>13.562</td>\n",
              "      <td>15.292999</td>\n",
              "    </tr>\n",
              "    <tr>\n",
              "      <th>15</th>\n",
              "      <td>3.0</td>\n",
              "      <td>1.629</td>\n",
              "      <td>7.014</td>\n",
              "      <td>6.931068</td>\n",
              "    </tr>\n",
              "    <tr>\n",
              "      <th>16</th>\n",
              "      <td>5.0</td>\n",
              "      <td>5.719</td>\n",
              "      <td>30.548</td>\n",
              "      <td>32.741811</td>\n",
              "    </tr>\n",
              "    <tr>\n",
              "      <th>17</th>\n",
              "      <td>3.0</td>\n",
              "      <td>2.061</td>\n",
              "      <td>8.924</td>\n",
              "      <td>9.263513</td>\n",
              "    </tr>\n",
              "    <tr>\n",
              "      <th>18</th>\n",
              "      <td>3.0</td>\n",
              "      <td>4.274</td>\n",
              "      <td>17.672</td>\n",
              "      <td>21.211896</td>\n",
              "    </tr>\n",
              "    <tr>\n",
              "      <th>19</th>\n",
              "      <td>4.0</td>\n",
              "      <td>7.410</td>\n",
              "      <td>44.099</td>\n",
              "      <td>40.007772</td>\n",
              "    </tr>\n",
              "    <tr>\n",
              "      <th>20</th>\n",
              "      <td>6.0</td>\n",
              "      <td>3.591</td>\n",
              "      <td>19.771</td>\n",
              "      <td>23.116409</td>\n",
              "    </tr>\n",
              "    <tr>\n",
              "      <th>21</th>\n",
              "      <td>3.0</td>\n",
              "      <td>0.803</td>\n",
              "      <td>6.217</td>\n",
              "      <td>2.471347</td>\n",
              "    </tr>\n",
              "    <tr>\n",
              "      <th>22</th>\n",
              "      <td>7.0</td>\n",
              "      <td>7.451</td>\n",
              "      <td>49.544</td>\n",
              "      <td>45.821290</td>\n",
              "    </tr>\n",
              "    <tr>\n",
              "      <th>23</th>\n",
              "      <td>7.0</td>\n",
              "      <td>7.957</td>\n",
              "      <td>54.321</td>\n",
              "      <td>48.553275</td>\n",
              "    </tr>\n",
              "    <tr>\n",
              "      <th>24</th>\n",
              "      <td>3.0</td>\n",
              "      <td>5.635</td>\n",
              "      <td>26.882</td>\n",
              "      <td>28.560178</td>\n",
              "    </tr>\n",
              "  </tbody>\n",
              "</table>\n",
              "</div>\n",
              "      <button class=\"colab-df-convert\" onclick=\"convertToInteractive('df-ecfe0b79-0cdf-4ef4-89fa-533e47abcf07')\"\n",
              "              title=\"Convert this dataframe to an interactive table.\"\n",
              "              style=\"display:none;\">\n",
              "        \n",
              "  <svg xmlns=\"http://www.w3.org/2000/svg\" height=\"24px\"viewBox=\"0 0 24 24\"\n",
              "       width=\"24px\">\n",
              "    <path d=\"M0 0h24v24H0V0z\" fill=\"none\"/>\n",
              "    <path d=\"M18.56 5.44l.94 2.06.94-2.06 2.06-.94-2.06-.94-.94-2.06-.94 2.06-2.06.94zm-11 1L8.5 8.5l.94-2.06 2.06-.94-2.06-.94L8.5 2.5l-.94 2.06-2.06.94zm10 10l.94 2.06.94-2.06 2.06-.94-2.06-.94-.94-2.06-.94 2.06-2.06.94z\"/><path d=\"M17.41 7.96l-1.37-1.37c-.4-.4-.92-.59-1.43-.59-.52 0-1.04.2-1.43.59L10.3 9.45l-7.72 7.72c-.78.78-.78 2.05 0 2.83L4 21.41c.39.39.9.59 1.41.59.51 0 1.02-.2 1.41-.59l7.78-7.78 2.81-2.81c.8-.78.8-2.07 0-2.86zM5.41 20L4 18.59l7.72-7.72 1.47 1.35L5.41 20z\"/>\n",
              "  </svg>\n",
              "      </button>\n",
              "      \n",
              "  <style>\n",
              "    .colab-df-container {\n",
              "      display:flex;\n",
              "      flex-wrap:wrap;\n",
              "      gap: 12px;\n",
              "    }\n",
              "\n",
              "    .colab-df-convert {\n",
              "      background-color: #E8F0FE;\n",
              "      border: none;\n",
              "      border-radius: 50%;\n",
              "      cursor: pointer;\n",
              "      display: none;\n",
              "      fill: #1967D2;\n",
              "      height: 32px;\n",
              "      padding: 0 0 0 0;\n",
              "      width: 32px;\n",
              "    }\n",
              "\n",
              "    .colab-df-convert:hover {\n",
              "      background-color: #E2EBFA;\n",
              "      box-shadow: 0px 1px 2px rgba(60, 64, 67, 0.3), 0px 1px 3px 1px rgba(60, 64, 67, 0.15);\n",
              "      fill: #174EA6;\n",
              "    }\n",
              "\n",
              "    [theme=dark] .colab-df-convert {\n",
              "      background-color: #3B4455;\n",
              "      fill: #D2E3FC;\n",
              "    }\n",
              "\n",
              "    [theme=dark] .colab-df-convert:hover {\n",
              "      background-color: #434B5C;\n",
              "      box-shadow: 0px 1px 3px 1px rgba(0, 0, 0, 0.15);\n",
              "      filter: drop-shadow(0px 1px 2px rgba(0, 0, 0, 0.3));\n",
              "      fill: #FFFFFF;\n",
              "    }\n",
              "  </style>\n",
              "\n",
              "      <script>\n",
              "        const buttonEl =\n",
              "          document.querySelector('#df-ecfe0b79-0cdf-4ef4-89fa-533e47abcf07 button.colab-df-convert');\n",
              "        buttonEl.style.display =\n",
              "          google.colab.kernel.accessAllowed ? 'block' : 'none';\n",
              "\n",
              "        async function convertToInteractive(key) {\n",
              "          const element = document.querySelector('#df-ecfe0b79-0cdf-4ef4-89fa-533e47abcf07');\n",
              "          const dataTable =\n",
              "            await google.colab.kernel.invokeFunction('convertToInteractive',\n",
              "                                                     [key], {});\n",
              "          if (!dataTable) return;\n",
              "\n",
              "          const docLinkHtml = 'Like what you see? Visit the ' +\n",
              "            '<a target=\"_blank\" href=https://colab.research.google.com/notebooks/data_table.ipynb>data table notebook</a>'\n",
              "            + ' to learn more about interactive tables.';\n",
              "          element.innerHTML = '';\n",
              "          dataTable['output_type'] = 'display_data';\n",
              "          await google.colab.output.renderOutput(dataTable, element);\n",
              "          const docLink = document.createElement('div');\n",
              "          docLink.innerHTML = docLinkHtml;\n",
              "          element.appendChild(docLink);\n",
              "        }\n",
              "      </script>\n",
              "    </div>\n",
              "  </div>\n",
              "  "
            ]
          },
          "metadata": {},
          "execution_count": 63
        }
      ]
    },
    {
      "cell_type": "code",
      "source": [
        "from sklearn import metrics\n",
        "print( 'MAE: ', metrics.mean_absolute_error(y2_test,y2_pred))\n",
        "print('RMSE: ',np.sqrt(metrics.mean_squared_error(y2_test,y2_pred)))"
      ],
      "metadata": {
        "colab": {
          "base_uri": "https://localhost:8080/"
        },
        "id": "zBb0b5v0-5NG",
        "outputId": "523af9c9-9824-4419-dab1-b1e18fa87285"
      },
      "execution_count": 66,
      "outputs": [
        {
          "output_type": "stream",
          "name": "stdout",
          "text": [
            "MAE:  2.8688412133457724\n",
            "RMSE:  3.2676098835371623\n"
          ]
        }
      ]
    }
  ]
}